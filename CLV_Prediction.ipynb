{
 "cells": [
  {
   "cell_type": "code",
   "execution_count": 1,
   "metadata": {
    "id": "GTwVRZnbIGrl"
   },
   "outputs": [],
   "source": [
    "\n",
    "import pandas as pd\n",
    "import numpy as np\n",
    "import seaborn as sns\n",
    "import sklearn as sk\n",
    "import sklearn.linear_model as skl\n",
    "from sklearn import preprocessing\n",
    "from sklearn import metrics\n",
    "from sklearn.preprocessing import PolynomialFeatures\n",
    "from sklearn.preprocessing import StandardScaler\n",
    "from sklearn.model_selection import train_test_split, cross_val_score\n",
    "from sklearn.feature_selection import SelectFromModel\n",
    "from sklearn.feature_selection import SequentialFeatureSelector\n",
    "from sklearn.linear_model import LassoCV, lasso_path, Lasso\n",
    "import matplotlib.pyplot as plt\n",
    "from IPython.display import display\n",
    "\n",
    "seed = 2023\n",
    "np.random.seed(seed)"
   ]
  },
  {
   "cell_type": "markdown",
   "metadata": {
    "id": "G4EmPdu-tV-2"
   },
   "source": [
    "\n",
    "Customer Lifetime Value (CLV) is the total income a business can expect from a customer over the entire period of their relationship. It’s an important metric as it costs less to keep existing customers than it does to acquire new ones, so increasing the value of your existing customers is a great way to drive growth. We want to predict CLV for an auto insurance company.\n"
   ]
  },
  {
   "cell_type": "code",
   "execution_count": 2,
   "metadata": {
    "colab": {
     "base_uri": "https://localhost:8080/",
     "height": 243
    },
    "id": "hW5aHQQoKHtu",
    "outputId": "c5aa8ae1-997c-4c75-e98a-49510b98c92d"
   },
   "outputs": [
    {
     "name": "stdout",
     "output_type": "stream",
     "text": [
      "original shape of df:  (8630, 11)\n"
     ]
    },
    {
     "data": {
      "text/html": [
       "<div>\n",
       "<style scoped>\n",
       "    .dataframe tbody tr th:only-of-type {\n",
       "        vertical-align: middle;\n",
       "    }\n",
       "\n",
       "    .dataframe tbody tr th {\n",
       "        vertical-align: top;\n",
       "    }\n",
       "\n",
       "    .dataframe thead th {\n",
       "        text-align: right;\n",
       "    }\n",
       "</style>\n",
       "<table border=\"1\" class=\"dataframe\">\n",
       "  <thead>\n",
       "    <tr style=\"text-align: right;\">\n",
       "      <th></th>\n",
       "      <th>clv</th>\n",
       "      <th>Coverage</th>\n",
       "      <th>Gender</th>\n",
       "      <th>Income</th>\n",
       "      <th>Marital.Status</th>\n",
       "      <th>Monthly.Premium.Auto</th>\n",
       "      <th>Number.of.Open.Complaints</th>\n",
       "      <th>Number.of.Policies</th>\n",
       "      <th>Renew.Offer.Type</th>\n",
       "      <th>Total.Claim.Amount</th>\n",
       "      <th>Vehicle.Class</th>\n",
       "    </tr>\n",
       "  </thead>\n",
       "  <tbody>\n",
       "    <tr>\n",
       "      <th>0</th>\n",
       "      <td>2763.519279</td>\n",
       "      <td>Basic</td>\n",
       "      <td>F</td>\n",
       "      <td>56274</td>\n",
       "      <td>Married</td>\n",
       "      <td>69</td>\n",
       "      <td>0</td>\n",
       "      <td>1</td>\n",
       "      <td>Offer1</td>\n",
       "      <td>384.811147</td>\n",
       "      <td>Two-Door Car</td>\n",
       "    </tr>\n",
       "    <tr>\n",
       "      <th>1</th>\n",
       "      <td>6979.535903</td>\n",
       "      <td>Extended</td>\n",
       "      <td>F</td>\n",
       "      <td>0</td>\n",
       "      <td>Single</td>\n",
       "      <td>94</td>\n",
       "      <td>0</td>\n",
       "      <td>8</td>\n",
       "      <td>Offer3</td>\n",
       "      <td>1131.464935</td>\n",
       "      <td>Four-Door Car</td>\n",
       "    </tr>\n",
       "    <tr>\n",
       "      <th>2</th>\n",
       "      <td>12887.431650</td>\n",
       "      <td>Premium</td>\n",
       "      <td>F</td>\n",
       "      <td>48767</td>\n",
       "      <td>Married</td>\n",
       "      <td>108</td>\n",
       "      <td>0</td>\n",
       "      <td>2</td>\n",
       "      <td>Offer1</td>\n",
       "      <td>566.472247</td>\n",
       "      <td>Two-Door Car</td>\n",
       "    </tr>\n",
       "    <tr>\n",
       "      <th>3</th>\n",
       "      <td>7645.861827</td>\n",
       "      <td>Basic</td>\n",
       "      <td>M</td>\n",
       "      <td>0</td>\n",
       "      <td>Married</td>\n",
       "      <td>106</td>\n",
       "      <td>0</td>\n",
       "      <td>7</td>\n",
       "      <td>Offer1</td>\n",
       "      <td>529.881344</td>\n",
       "      <td>SUV</td>\n",
       "    </tr>\n",
       "    <tr>\n",
       "      <th>4</th>\n",
       "      <td>2813.692575</td>\n",
       "      <td>Basic</td>\n",
       "      <td>M</td>\n",
       "      <td>43836</td>\n",
       "      <td>Single</td>\n",
       "      <td>73</td>\n",
       "      <td>0</td>\n",
       "      <td>1</td>\n",
       "      <td>Offer1</td>\n",
       "      <td>138.130879</td>\n",
       "      <td>Four-Door Car</td>\n",
       "    </tr>\n",
       "  </tbody>\n",
       "</table>\n",
       "</div>"
      ],
      "text/plain": [
       "            clv  Coverage Gender  Income Marital.Status  Monthly.Premium.Auto  \\\n",
       "0   2763.519279     Basic      F   56274        Married                    69   \n",
       "1   6979.535903  Extended      F       0         Single                    94   \n",
       "2  12887.431650   Premium      F   48767        Married                   108   \n",
       "3   7645.861827     Basic      M       0        Married                   106   \n",
       "4   2813.692575     Basic      M   43836         Single                    73   \n",
       "\n",
       "   Number.of.Open.Complaints  Number.of.Policies Renew.Offer.Type  \\\n",
       "0                          0                   1           Offer1   \n",
       "1                          0                   8           Offer3   \n",
       "2                          0                   2           Offer1   \n",
       "3                          0                   7           Offer1   \n",
       "4                          0                   1           Offer1   \n",
       "\n",
       "   Total.Claim.Amount  Vehicle.Class  \n",
       "0          384.811147   Two-Door Car  \n",
       "1         1131.464935  Four-Door Car  \n",
       "2          566.472247   Two-Door Car  \n",
       "3          529.881344            SUV  \n",
       "4          138.130879  Four-Door Car  "
      ]
     },
     "execution_count": 2,
     "metadata": {},
     "output_type": "execute_result"
    }
   ],
   "source": [
    "\n",
    "df = pd.read_csv('Vehicle_Insurance.csv')\n",
    "print(\"original shape of df: \", df.shape)\n",
    "df.head(n=5)\n"
   ]
  },
  {
   "cell_type": "code",
   "execution_count": 3,
   "metadata": {
    "colab": {
     "base_uri": "https://localhost:8080/",
     "height": 243
    },
    "id": "uT1uSpcHvgC6",
    "outputId": "32156dc5-80fc-4c55-a7f6-c2303621233a"
   },
   "outputs": [
    {
     "name": "stdout",
     "output_type": "stream",
     "text": [
      "The shape of the datafram now is:  (8212, 11)\n"
     ]
    },
    {
     "data": {
      "text/html": [
       "<div>\n",
       "<style scoped>\n",
       "    .dataframe tbody tr th:only-of-type {\n",
       "        vertical-align: middle;\n",
       "    }\n",
       "\n",
       "    .dataframe tbody tr th {\n",
       "        vertical-align: top;\n",
       "    }\n",
       "\n",
       "    .dataframe thead th {\n",
       "        text-align: right;\n",
       "    }\n",
       "</style>\n",
       "<table border=\"1\" class=\"dataframe\">\n",
       "  <thead>\n",
       "    <tr style=\"text-align: right;\">\n",
       "      <th></th>\n",
       "      <th>clv</th>\n",
       "      <th>Coverage</th>\n",
       "      <th>Gender</th>\n",
       "      <th>Income</th>\n",
       "      <th>Marital.Status</th>\n",
       "      <th>Monthly.Premium.Auto</th>\n",
       "      <th>Number.of.Open.Complaints</th>\n",
       "      <th>Number.of.Policies</th>\n",
       "      <th>Renew.Offer.Type</th>\n",
       "      <th>Total.Claim.Amount</th>\n",
       "      <th>Vehicle.Class</th>\n",
       "    </tr>\n",
       "  </thead>\n",
       "  <tbody>\n",
       "    <tr>\n",
       "      <th>0</th>\n",
       "      <td>2763.519279</td>\n",
       "      <td>Basic</td>\n",
       "      <td>F</td>\n",
       "      <td>56274</td>\n",
       "      <td>Married</td>\n",
       "      <td>69</td>\n",
       "      <td>0</td>\n",
       "      <td>1</td>\n",
       "      <td>Offer1</td>\n",
       "      <td>384.811147</td>\n",
       "      <td>Two-Door Car</td>\n",
       "    </tr>\n",
       "    <tr>\n",
       "      <th>1</th>\n",
       "      <td>6979.535903</td>\n",
       "      <td>Extended</td>\n",
       "      <td>F</td>\n",
       "      <td>0</td>\n",
       "      <td>Single</td>\n",
       "      <td>94</td>\n",
       "      <td>0</td>\n",
       "      <td>8</td>\n",
       "      <td>Offer3</td>\n",
       "      <td>1131.464935</td>\n",
       "      <td>Four-Door Car</td>\n",
       "    </tr>\n",
       "    <tr>\n",
       "      <th>2</th>\n",
       "      <td>12887.431650</td>\n",
       "      <td>Premium</td>\n",
       "      <td>F</td>\n",
       "      <td>48767</td>\n",
       "      <td>Married</td>\n",
       "      <td>108</td>\n",
       "      <td>0</td>\n",
       "      <td>2</td>\n",
       "      <td>Offer1</td>\n",
       "      <td>566.472247</td>\n",
       "      <td>Two-Door Car</td>\n",
       "    </tr>\n",
       "    <tr>\n",
       "      <th>3</th>\n",
       "      <td>7645.861827</td>\n",
       "      <td>Basic</td>\n",
       "      <td>M</td>\n",
       "      <td>0</td>\n",
       "      <td>Married</td>\n",
       "      <td>106</td>\n",
       "      <td>0</td>\n",
       "      <td>7</td>\n",
       "      <td>Offer1</td>\n",
       "      <td>529.881344</td>\n",
       "      <td>SUV</td>\n",
       "    </tr>\n",
       "    <tr>\n",
       "      <th>4</th>\n",
       "      <td>2813.692575</td>\n",
       "      <td>Basic</td>\n",
       "      <td>M</td>\n",
       "      <td>43836</td>\n",
       "      <td>Single</td>\n",
       "      <td>73</td>\n",
       "      <td>0</td>\n",
       "      <td>1</td>\n",
       "      <td>Offer1</td>\n",
       "      <td>138.130879</td>\n",
       "      <td>Four-Door Car</td>\n",
       "    </tr>\n",
       "  </tbody>\n",
       "</table>\n",
       "</div>"
      ],
      "text/plain": [
       "            clv  Coverage Gender  Income Marital.Status  Monthly.Premium.Auto  \\\n",
       "0   2763.519279     Basic      F   56274        Married                    69   \n",
       "1   6979.535903  Extended      F       0         Single                    94   \n",
       "2  12887.431650   Premium      F   48767        Married                   108   \n",
       "3   7645.861827     Basic      M       0        Married                   106   \n",
       "4   2813.692575     Basic      M   43836         Single                    73   \n",
       "\n",
       "   Number.of.Open.Complaints  Number.of.Policies Renew.Offer.Type  \\\n",
       "0                          0                   1           Offer1   \n",
       "1                          0                   8           Offer3   \n",
       "2                          0                   2           Offer1   \n",
       "3                          0                   7           Offer1   \n",
       "4                          0                   1           Offer1   \n",
       "\n",
       "   Total.Claim.Amount  Vehicle.Class  \n",
       "0          384.811147   Two-Door Car  \n",
       "1         1131.464935  Four-Door Car  \n",
       "2          566.472247   Two-Door Car  \n",
       "3          529.881344            SUV  \n",
       "4          138.130879  Four-Door Car  "
      ]
     },
     "execution_count": 3,
     "metadata": {},
     "output_type": "execute_result"
    }
   ],
   "source": [
    "#removing rows with clv greater than 16000 and smaller than 2200\n",
    "lower_bound = 2200\n",
    "upper_bound = 16000\n",
    "\n",
    "rows_to_drop = df.loc[(df['clv'] < lower_bound) | (df['clv'] > upper_bound)].index\n",
    "\n",
    "df.drop(rows_to_drop, inplace=True)\n",
    "\n",
    "print('The shape of the datafram now is: ', df.shape)\n",
    "df.head(n=5)"
   ]
  },
  {
   "cell_type": "code",
   "execution_count": 4,
   "metadata": {
    "colab": {
     "base_uri": "https://localhost:8080/",
     "height": 198
    },
    "id": "roWX2SCqxCDW",
    "outputId": "f4c00843-7ba8-4839-c031-21b35e701d2e"
   },
   "outputs": [
    {
     "name": "stdout",
     "output_type": "stream",
     "text": [
      "shape of df after encoding:  (8212, 19)\n"
     ]
    },
    {
     "data": {
      "text/html": [
       "<div>\n",
       "<style scoped>\n",
       "    .dataframe tbody tr th:only-of-type {\n",
       "        vertical-align: middle;\n",
       "    }\n",
       "\n",
       "    .dataframe tbody tr th {\n",
       "        vertical-align: top;\n",
       "    }\n",
       "\n",
       "    .dataframe thead th {\n",
       "        text-align: right;\n",
       "    }\n",
       "</style>\n",
       "<table border=\"1\" class=\"dataframe\">\n",
       "  <thead>\n",
       "    <tr style=\"text-align: right;\">\n",
       "      <th></th>\n",
       "      <th>clv</th>\n",
       "      <th>Income</th>\n",
       "      <th>Monthly.Premium.Auto</th>\n",
       "      <th>Number.of.Open.Complaints</th>\n",
       "      <th>Number.of.Policies</th>\n",
       "      <th>Total.Claim.Amount</th>\n",
       "      <th>Coverage_Extended</th>\n",
       "      <th>Coverage_Premium</th>\n",
       "      <th>Gender_M</th>\n",
       "      <th>Marital.Status_Married</th>\n",
       "      <th>Marital.Status_Single</th>\n",
       "      <th>Renew.Offer.Type_Offer2</th>\n",
       "      <th>Renew.Offer.Type_Offer3</th>\n",
       "      <th>Renew.Offer.Type_Offer4</th>\n",
       "      <th>Vehicle.Class_Luxury Car</th>\n",
       "      <th>Vehicle.Class_Luxury SUV</th>\n",
       "      <th>Vehicle.Class_SUV</th>\n",
       "      <th>Vehicle.Class_Sports Car</th>\n",
       "      <th>Vehicle.Class_Two-Door Car</th>\n",
       "    </tr>\n",
       "  </thead>\n",
       "  <tbody>\n",
       "    <tr>\n",
       "      <th>0</th>\n",
       "      <td>2763.519279</td>\n",
       "      <td>56274</td>\n",
       "      <td>69</td>\n",
       "      <td>0</td>\n",
       "      <td>1</td>\n",
       "      <td>384.811147</td>\n",
       "      <td>0.0</td>\n",
       "      <td>0.0</td>\n",
       "      <td>0.0</td>\n",
       "      <td>1.0</td>\n",
       "      <td>0.0</td>\n",
       "      <td>0.0</td>\n",
       "      <td>0.0</td>\n",
       "      <td>0.0</td>\n",
       "      <td>0.0</td>\n",
       "      <td>0.0</td>\n",
       "      <td>0.0</td>\n",
       "      <td>0.0</td>\n",
       "      <td>1.0</td>\n",
       "    </tr>\n",
       "    <tr>\n",
       "      <th>1</th>\n",
       "      <td>6979.535903</td>\n",
       "      <td>0</td>\n",
       "      <td>94</td>\n",
       "      <td>0</td>\n",
       "      <td>8</td>\n",
       "      <td>1131.464935</td>\n",
       "      <td>1.0</td>\n",
       "      <td>0.0</td>\n",
       "      <td>0.0</td>\n",
       "      <td>0.0</td>\n",
       "      <td>1.0</td>\n",
       "      <td>0.0</td>\n",
       "      <td>1.0</td>\n",
       "      <td>0.0</td>\n",
       "      <td>0.0</td>\n",
       "      <td>0.0</td>\n",
       "      <td>0.0</td>\n",
       "      <td>0.0</td>\n",
       "      <td>0.0</td>\n",
       "    </tr>\n",
       "    <tr>\n",
       "      <th>2</th>\n",
       "      <td>12887.431650</td>\n",
       "      <td>48767</td>\n",
       "      <td>108</td>\n",
       "      <td>0</td>\n",
       "      <td>2</td>\n",
       "      <td>566.472247</td>\n",
       "      <td>0.0</td>\n",
       "      <td>1.0</td>\n",
       "      <td>0.0</td>\n",
       "      <td>1.0</td>\n",
       "      <td>0.0</td>\n",
       "      <td>0.0</td>\n",
       "      <td>0.0</td>\n",
       "      <td>0.0</td>\n",
       "      <td>0.0</td>\n",
       "      <td>0.0</td>\n",
       "      <td>0.0</td>\n",
       "      <td>0.0</td>\n",
       "      <td>1.0</td>\n",
       "    </tr>\n",
       "  </tbody>\n",
       "</table>\n",
       "</div>"
      ],
      "text/plain": [
       "            clv  Income  Monthly.Premium.Auto  Number.of.Open.Complaints  \\\n",
       "0   2763.519279   56274                    69                          0   \n",
       "1   6979.535903       0                    94                          0   \n",
       "2  12887.431650   48767                   108                          0   \n",
       "\n",
       "   Number.of.Policies  Total.Claim.Amount  Coverage_Extended  \\\n",
       "0                   1          384.811147                0.0   \n",
       "1                   8         1131.464935                1.0   \n",
       "2                   2          566.472247                0.0   \n",
       "\n",
       "   Coverage_Premium  Gender_M  Marital.Status_Married  Marital.Status_Single  \\\n",
       "0               0.0       0.0                     1.0                    0.0   \n",
       "1               0.0       0.0                     0.0                    1.0   \n",
       "2               1.0       0.0                     1.0                    0.0   \n",
       "\n",
       "   Renew.Offer.Type_Offer2  Renew.Offer.Type_Offer3  Renew.Offer.Type_Offer4  \\\n",
       "0                      0.0                      0.0                      0.0   \n",
       "1                      0.0                      1.0                      0.0   \n",
       "2                      0.0                      0.0                      0.0   \n",
       "\n",
       "   Vehicle.Class_Luxury Car  Vehicle.Class_Luxury SUV  Vehicle.Class_SUV  \\\n",
       "0                       0.0                       0.0                0.0   \n",
       "1                       0.0                       0.0                0.0   \n",
       "2                       0.0                       0.0                0.0   \n",
       "\n",
       "   Vehicle.Class_Sports Car  Vehicle.Class_Two-Door Car  \n",
       "0                       0.0                         1.0  \n",
       "1                       0.0                         0.0  \n",
       "2                       0.0                         1.0  "
      ]
     },
     "execution_count": 4,
     "metadata": {},
     "output_type": "execute_result"
    }
   ],
   "source": [
    "#converting categorical features and removing collinear features during the encoding process \n",
    "\n",
    "from sklearn.preprocessing import OneHotEncoder\n",
    "\n",
    "ohe = OneHotEncoder(drop='first', sparse_output=False)\n",
    "\n",
    "categorical_cols = df.select_dtypes(include=['object']).columns.tolist()\n",
    "\n",
    "ohe.fit(df[categorical_cols])\n",
    "\n",
    "encoded_features = ohe.transform(df[categorical_cols])\n",
    "\n",
    "encoded_feature_names = ohe.get_feature_names_out(categorical_cols)\n",
    "\n",
    "df[encoded_feature_names] = encoded_features\n",
    "\n",
    "# drop original categorical columns\n",
    "df.drop(columns=categorical_cols, axis=1, inplace=True)\n",
    "\n",
    "print(\"shape of df after encoding: \", df.shape)\n",
    "df.head(n=3)\n"
   ]
  },
  {
   "cell_type": "code",
   "execution_count": 5,
   "metadata": {
    "colab": {
     "base_uri": "https://localhost:8080/"
    },
    "id": "ny_rSAQg4int",
    "outputId": "9cc3cdfa-1700-4919-f590-1b7efa5da052"
   },
   "outputs": [
    {
     "name": "stdout",
     "output_type": "stream",
     "text": [
      "shape of X & Y :  (8212, 18) (8212,)\n"
     ]
    }
   ],
   "source": [
    "#applying sqrt transformation to the total.claim.amount column and log transformation to the target variable clv\n",
    "df['Total.Claim.Amount'] = df['Total.Claim.Amount'].apply(np.sqrt)\n",
    "\n",
    "df['clv'] = df['clv'].apply(np.log)\n",
    "\n",
    "X = df.drop('clv', axis = 'columns').values\n",
    "y = df['clv'].values\n",
    "\n",
    "print(\"shape of X & Y : \", X.shape, y.shape)\n"
   ]
  },
  {
   "cell_type": "code",
   "execution_count": 6,
   "metadata": {
    "colab": {
     "base_uri": "https://localhost:8080/"
    },
    "id": "zuq2W-kFlUe9",
    "outputId": "1b457d6e-edcb-475e-e912-00f2dd8fc56d"
   },
   "outputs": [
    {
     "data": {
      "text/plain": [
       "(8212, 189)"
      ]
     },
     "execution_count": 6,
     "metadata": {},
     "output_type": "execute_result"
    }
   ],
   "source": [
    "#building new design matrix for features (excluding target), with polynomial expansion, degree = 2 include=bias = false (exlcuding 0)\n",
    "poly_features = PolynomialFeatures(degree = 2, include_bias = False)\n",
    "X_poly = poly_features.fit_transform(X)\n",
    "\n",
    "X_poly.shape"
   ]
  },
  {
   "cell_type": "code",
   "execution_count": 7,
   "metadata": {
    "colab": {
     "base_uri": "https://localhost:8080/"
    },
    "id": "_qfJ-MfR9pLe",
    "outputId": "471c7cfb-999e-4d4f-fcc3-aafddb890bed"
   },
   "outputs": [
    {
     "data": {
      "text/plain": [
       "(8212, 189)"
      ]
     },
     "execution_count": 7,
     "metadata": {},
     "output_type": "execute_result"
    }
   ],
   "source": [
    "# standardizing design matrix with standard scaler\n",
    "scaler = StandardScaler()\n",
    "X_poly_scaled = scaler.fit_transform(X_poly)\n",
    "\n",
    "\n",
    "X_poly_scaled_df = pd.DataFrame(X_poly_scaled)\n",
    "\n",
    "X_poly_scaled_df.columns = poly_features.get_feature_names_out()\n",
    "\n",
    "X_poly_scaled_df.shape"
   ]
  },
  {
   "cell_type": "code",
   "execution_count": 8,
   "metadata": {
    "colab": {
     "base_uri": "https://localhost:8080/"
    },
    "id": "IIZcJbe-4inw",
    "outputId": "43543729-4598-42c6-fdcd-d71460e4f9bb"
   },
   "outputs": [
    {
     "name": "stdout",
     "output_type": "stream",
     "text": [
      "the resulting shape is:  (8212, 189)\n"
     ]
    }
   ],
   "source": [
    "print('the resulting shape is: ', X_poly_scaled_df.shape)"
   ]
  },
  {
   "cell_type": "code",
   "execution_count": 9,
   "metadata": {
    "colab": {
     "base_uri": "https://localhost:8080/"
    },
    "id": "0nA70uSCJMiO",
    "outputId": "956fbaf1-eb67-49ae-d702-23340b567d4b"
   },
   "outputs": [
    {
     "name": "stdout",
     "output_type": "stream",
     "text": [
      "5748 5748\n",
      "avg target variable 'clv':  8.62\n"
     ]
    }
   ],
   "source": [
    "#splitting data into train and test sets (30% for test set)\n",
    "X_train, X_test, y_train, y_test = train_test_split(X_poly_scaled_df, y, test_size=0.3, random_state=seed)\n",
    "\n",
    "print(X_train.shape[0], y_train.shape[0])\n",
    "\n",
    "avg_y = round(y.mean(), 2)\n",
    "print(\"avg target variable 'clv': \", avg_y)"
   ]
  },
  {
   "cell_type": "code",
   "execution_count": 10,
   "metadata": {
    "colab": {
     "base_uri": "https://localhost:8080/"
    },
    "id": "KNbYd9YM5QO3",
    "outputId": "78ec05ca-a371-454e-849f-c9bc9bbfd834"
   },
   "outputs": [
    {
     "name": "stdout",
     "output_type": "stream",
     "text": [
      "Intercept: 8.61973740056876\n",
      "First coefficient: 0.030072902149530522\n",
      "Second coefficient: 0.28254497396161443\n",
      "Third coefficient: 0.026195175340134193\n"
     ]
    }
   ],
   "source": [
    "#running ridge regression analysis of the target variable clv against all the tranformed predictor variables using training data \n",
    "from sklearn.linear_model import Ridge\n",
    "\n",
    "m1 = Ridge(alpha=4.0, fit_intercept=True)\n",
    "m1.fit(X_train, y_train)\n",
    "\n",
    "\n",
    "print(f\"Intercept: {m1.intercept_}\")\n",
    "print(f\"First coefficient: {m1.coef_[0]}\")\n",
    "print(f\"Second coefficient: {m1.coef_[1]}\")\n",
    "print(f\"Third coefficient: {m1.coef_[2]}\")"
   ]
  },
  {
   "cell_type": "code",
   "execution_count": 11,
   "metadata": {
    "colab": {
     "base_uri": "https://localhost:8080/"
    },
    "id": "FqbRiqdBICnW",
    "outputId": "61d793dc-4d05-4aee-e186-08ada19e1d92"
   },
   "outputs": [
    {
     "name": "stdout",
     "output_type": "stream",
     "text": [
      "Best alpha: 1.559623497606781\n",
      "Minimum MSE: 0.11146764430105471\n"
     ]
    }
   ],
   "source": [
    "#varying the ridge coefficient alpha, using cross validation to select best alpha, reporting alpha that yields the smallest mse\n",
    "lam = np.exp(np.linspace(-4,1,10))\n",
    "\n",
    "mse_list = []\n",
    "\n",
    "for alpha in lam:\n",
    "    # create a Ridge regression object\n",
    "    model_ridge = Ridge(alpha=alpha, fit_intercept=True)\n",
    "\n",
    "    # perform cross-validation with 5 folds\n",
    "    scores = cross_val_score(model_ridge, X_train, y_train, cv=5, scoring=\"neg_mean_squared_error\")\n",
    "\n",
    "    # calculate the mean squared error for this alpha\n",
    "    mse = np.mean(-scores)\n",
    "\n",
    "    # append the MSE to the list\n",
    "    mse_list.append(mse)\n",
    "\n",
    "\n",
    "# find the alpha that yields the smallest MSE\n",
    "best_alpha = lam[np.argmin(mse_list)]\n",
    "\n",
    "\n",
    "print(f\"Best alpha: {best_alpha}\")\n",
    "print(f\"Minimum MSE: {min(mse_list)}\")"
   ]
  },
  {
   "cell_type": "code",
   "execution_count": 12,
   "metadata": {
    "colab": {
     "base_uri": "https://localhost:8080/"
    },
    "id": "SdW6-rRKDs0H",
    "outputId": "774c8c47-58ac-4670-c4f1-4148747d0b74"
   },
   "outputs": [
    {
     "name": "stdout",
     "output_type": "stream",
     "text": [
      "Intercept: 8.619696474629754\n",
      "First coefficient: 0.028397620273842145\n",
      "Second coefficient: 0.3308113294826027\n",
      "Third coefficient: 0.02778566619245393\n"
     ]
    }
   ],
   "source": [
    "#re-fitting ridge regression with smallest alpha \n",
    "model_ridge = Ridge(alpha=best_alpha, fit_intercept=True)\n",
    "model_ridge.fit(X_train, y_train)\n",
    "\n",
    "\n",
    "print(f\"Intercept: {model_ridge.intercept_}\")\n",
    "print(f\"First coefficient: {model_ridge.coef_[0]}\")\n",
    "print(f\"Second coefficient: {model_ridge.coef_[1]}\")\n",
    "print(f\"Third coefficient: {model_ridge.coef_[2]}\")"
   ]
  },
  {
   "cell_type": "code",
   "execution_count": 13,
   "metadata": {
    "colab": {
     "base_uri": "https://localhost:8080/"
    },
    "id": "gqo8keT9Z-oz",
    "outputId": "07c88002-6fb3-43f7-f389-28f0746a02f2"
   },
   "outputs": [
    {
     "name": "stdout",
     "output_type": "stream",
     "text": [
      "Intercept: 8.619656731953228\n",
      "First coefficient: 0.018364912333995467\n",
      "Second coefficient: 0.23358725967540925\n",
      "Third coefficient: 0.030344837166832984\n"
     ]
    }
   ],
   "source": [
    "#fitting linear regression without penalty \n",
    "from sklearn.linear_model import LinearRegression\n",
    "\n",
    "# create a LinearRegression object\n",
    "model_linear = LinearRegression(fit_intercept=True)\n",
    "\n",
    "# fit the model to the training data\n",
    "model_linear.fit(X_train, y_train)\n",
    "\n",
    "# print the first 3 parameters of the model\n",
    "print(f\"Intercept: {model_linear.intercept_}\")\n",
    "print(f\"First coefficient: {model_linear.coef_[0]}\")\n",
    "print(f\"Second coefficient: {model_linear.coef_[1]}\")\n",
    "print(f\"Third coefficient: {model_linear.coef_[2]}\")"
   ]
  },
  {
   "cell_type": "code",
   "execution_count": 14,
   "metadata": {
    "colab": {
     "base_uri": "https://localhost:8080/"
    },
    "id": "jZ2kmfb74usy",
    "outputId": "756f5418-cd84-4c64-9cd0-4ec3ed5600b1"
   },
   "outputs": [
    {
     "name": "stdout",
     "output_type": "stream",
     "text": [
      "[9.24153655 8.31222206 8.89943367 8.08133369 8.44777434]\n"
     ]
    }
   ],
   "source": [
    "## predicting on the test set\n",
    "y_pred = model_linear.predict(X_test)\n",
    "print(y_pred[:5])"
   ]
  },
  {
   "cell_type": "code",
   "execution_count": 15,
   "metadata": {
    "colab": {
     "base_uri": "https://localhost:8080/",
     "height": 193
    },
    "id": "-yYkOTzFe1DT",
    "outputId": "4e7aed3d-5446-4a63-df1c-9c850c95ae7f"
   },
   "outputs": [
    {
     "data": {
      "image/png": "[encoded data removed]",
      "text/plain": [
       "<Figure size 640x480 with 1 Axes>"
      ]
     },
     "metadata": {},
     "output_type": "display_data"
    }
   ],
   "source": [
    "# fitting lasso regression to the training set, \n",
    "\n",
    "eps=8e-3\n",
    "alphas_lasso, coefs_lasso, _ = lasso_path(X_train, y_train, eps=eps, n_alphas = 50)\n",
    "\n",
    "# Create the plot\n",
    "plt.figure()\n",
    "\n",
    "# Plot the Lasso path\n",
    "plt.plot(alphas_lasso, coefs_lasso.T)\n",
    "\n",
    "# Set the title and axis labels\n",
    "plt.title(f\"Lasso Path (eps={eps})\")\n",
    "plt.xlabel(\"Lambda (Regularization Parameter)\")\n",
    "plt.ylabel(\"Coefficients\")\n",
    "\n",
    "# Show the plot\n",
    "plt.show()\n"
   ]
  },
  {
   "cell_type": "code",
   "execution_count": 16,
   "metadata": {
    "colab": {
     "base_uri": "https://localhost:8080/"
    },
    "id": "XcgZDP9kjNHP",
    "outputId": "bb328338-d123-4161-c2b7-b6d033aa1f70"
   },
   "outputs": [
    {
     "name": "stdout",
     "output_type": "stream",
     "text": [
      "Best tuning parameter: 0.0019347932826026507\n",
      "Number of non-zero coefficients: 92\n"
     ]
    }
   ],
   "source": [
    "#automatically searching for the best tuning parameter using cv lasso of the lasso regression on the training set\n",
    "from sklearn.linear_model import LassoCV\n",
    "\n",
    "# Define the LassoCV model\n",
    "model_lassocv = LassoCV(eps=8e-3, n_alphas=30, tol=0.001, cv=5, random_state=seed)\n",
    "\n",
    "# Fit the model to the training data\n",
    "model_lassocv.fit(X_train, y_train)\n",
    "\n",
    "# Get the best tuning parameter\n",
    "best_alpha = model_lassocv.alpha_\n",
    "\n",
    "# Get the number of non-zero coefficients\n",
    "num_non_zero_coefs = np.count_nonzero(model_lassocv.coef_)\n",
    "\n",
    "# Print the results\n",
    "print(\"Best tuning parameter:\", best_alpha)\n",
    "print(\"Number of non-zero coefficients:\", num_non_zero_coefs)"
   ]
  },
  {
   "cell_type": "code",
   "execution_count": 17,
   "metadata": {
    "colab": {
     "base_uri": "https://localhost:8080/"
    },
    "id": "fPJuGnkjmcE6",
    "outputId": "2032ca97-b21c-46f5-e1d2-cdbf30a6208f"
   },
   "outputs": [
    {
     "name": "stdout",
     "output_type": "stream",
     "text": [
      "Best tuning parameters:\n",
      "alpha: 0.0019347932826026507\n",
      "l1_ratio: 1.0\n"
     ]
    }
   ],
   "source": [
    "#using cv elasticnet to automatically search for the best tuning parameters of the elasticnets regression on the training data set. \n",
    "from sklearn.linear_model import ElasticNetCV\n",
    "\n",
    "# Define the ElasticNetCV model\n",
    "model_elasticnetcv = ElasticNetCV(eps=8e-3, n_alphas=30, tol=0.001, cv=5, random_state=seed, l1_ratio=[.7, .9, .95, .99,1])\n",
    "\n",
    "# Fit the model to the training data\n",
    "model_elasticnetcv.fit(X_train, y_train)\n",
    "\n",
    "# Get the best tuning parameters\n",
    "best_alpha = model_elasticnetcv.alpha_\n",
    "best_l1_ratio = model_elasticnetcv.l1_ratio_\n",
    "\n",
    "# Print the results\n",
    "print(\"Best tuning parameters:\")\n",
    "print(\"alpha:\", best_alpha)\n",
    "print(\"l1_ratio:\", best_l1_ratio)"
   ]
  },
  {
   "cell_type": "markdown",
   "metadata": {
    "id": "imEmw4pdozsc"
   },
   "source": [
    "\n",
    " the best tuning parameter alpha for both ElasticNet and Lasso regression is approximately 0.0019347932826026507. This value suggests that a moderate amount of regularization is applied, balancing between fitting the data and controlling for overfitting.\n",
    "\n",
    "For ElasticNet regression, another important tuning parameter is l1_ratio, which determines the mix of L1 (Lasso) and L2 (Ridge) penalties. A l1_ratio of 1.0 means that only L1 penalty is applied, making the ElasticNet equivalent to Lasso regression\n",
    "..."
   ]
  },
  {
   "cell_type": "code",
   "execution_count": 18,
   "metadata": {
    "colab": {
     "base_uri": "https://localhost:8080/"
    },
    "id": "jxGV90gx6nDm",
    "outputId": "c8a507bc-356b-446a-e593-82f019a3a4a4"
   },
   "outputs": [
    {
     "name": "stdout",
     "output_type": "stream",
     "text": [
      "Indices of selected features: [  1   3  12  18  19  20  28  36  38  55  59  69  75 104 117 118 119 126\n",
      " 131 143]\n"
     ]
    }
   ],
   "source": [
    "#conducting forward selection for the features of the regression model\n",
    "selector = SequentialFeatureSelector(model_linear,\n",
    "                                     n_features_to_select=20,  # Number of features to select\n",
    "                                     direction='forward',      # Perform forward selection\n",
    "                                     scoring='r2',             # Scoring metric\n",
    "                                     cv=5)                     \n",
    "\n",
    "\n",
    "selector.fit(X_train, y_train)\n",
    "\n",
    "\n",
    "selected_feature_indices = np.where(selector.support_)[0]\n",
    "\n",
    "\n",
    "print(\"Indices of selected features:\", selected_feature_indices)"
   ]
  },
  {
   "cell_type": "code",
   "execution_count": 19,
   "metadata": {
    "colab": {
     "base_uri": "https://localhost:8080/"
    },
    "id": "k8gVaU4mA6Zw",
    "outputId": "39442870-8233-43f6-d9fb-59f9caa5b9e3"
   },
   "outputs": [
    {
     "name": "stdout",
     "output_type": "stream",
     "text": [
      "Intercept: 8.61894623157851\n",
      "Coefficient for x1: 0.4818115681913016\n",
      "Coefficient for x3: 1.071229529732939\n",
      "Coefficient for x12: -0.01227780117627008\n"
     ]
    }
   ],
   "source": [
    "#re ftting linear regression based on the training set by using selected features\n",
    "selected_features = selector.support_\n",
    "\n",
    "\n",
    "selected_feature_names = [X_train.columns[i] for i in range(len(selected_features)) if selected_features[i]]\n",
    "\n",
    "\n",
    "X_train_selected = X_train[selected_feature_names]\n",
    "\n",
    "# Re-fit the linear regression model\n",
    "model_linear.fit(X_train_selected, y_train)\n",
    "\n",
    "# Print the first 3 parameters of the model\n",
    "print(f\"Intercept: {model_linear.intercept_}\")\n",
    "print(f\"Coefficient for {selected_feature_names[0]}: {model_linear.coef_[0]}\")\n",
    "print(f\"Coefficient for {selected_feature_names[1]}: {model_linear.coef_[1]}\")\n",
    "print(f\"Coefficient for {selected_feature_names[2]}: {model_linear.coef_[2]}\")"
   ]
  },
  {
   "cell_type": "code",
   "execution_count": 20,
   "metadata": {
    "colab": {
     "base_uri": "https://localhost:8080/",
     "height": 226
    },
    "id": "bcjWPGH82stF",
    "outputId": "8808780f-341b-4f00-af46-a6c1e5225a28"
   },
   "outputs": [
    {
     "data": {
      "text/html": [
       "<div>\n",
       "<style scoped>\n",
       "    .dataframe tbody tr th:only-of-type {\n",
       "        vertical-align: middle;\n",
       "    }\n",
       "\n",
       "    .dataframe tbody tr th {\n",
       "        vertical-align: top;\n",
       "    }\n",
       "\n",
       "    .dataframe thead th {\n",
       "        text-align: right;\n",
       "    }\n",
       "</style>\n",
       "<table border=\"1\" class=\"dataframe\">\n",
       "  <thead>\n",
       "    <tr style=\"text-align: right;\">\n",
       "      <th></th>\n",
       "      <th>y_pred_linear</th>\n",
       "      <th>y_pred_linear_selected</th>\n",
       "      <th>y_pred_ridge</th>\n",
       "      <th>y_pred_lasso</th>\n",
       "      <th>y_pred_elasticnet</th>\n",
       "    </tr>\n",
       "  </thead>\n",
       "  <tbody>\n",
       "    <tr>\n",
       "      <th>0</th>\n",
       "      <td>9.241537</td>\n",
       "      <td>9.197035</td>\n",
       "      <td>9.244224</td>\n",
       "      <td>9.142903</td>\n",
       "      <td>9.142903</td>\n",
       "    </tr>\n",
       "    <tr>\n",
       "      <th>1</th>\n",
       "      <td>8.312222</td>\n",
       "      <td>8.300987</td>\n",
       "      <td>8.317220</td>\n",
       "      <td>8.303288</td>\n",
       "      <td>8.303288</td>\n",
       "    </tr>\n",
       "    <tr>\n",
       "      <th>2</th>\n",
       "      <td>8.899434</td>\n",
       "      <td>8.910826</td>\n",
       "      <td>8.894495</td>\n",
       "      <td>8.859596</td>\n",
       "      <td>8.859596</td>\n",
       "    </tr>\n",
       "    <tr>\n",
       "      <th>3</th>\n",
       "      <td>8.081334</td>\n",
       "      <td>8.025311</td>\n",
       "      <td>8.083858</td>\n",
       "      <td>8.085032</td>\n",
       "      <td>8.085032</td>\n",
       "    </tr>\n",
       "    <tr>\n",
       "      <th>4</th>\n",
       "      <td>8.447774</td>\n",
       "      <td>8.445480</td>\n",
       "      <td>8.433497</td>\n",
       "      <td>8.416404</td>\n",
       "      <td>8.416404</td>\n",
       "    </tr>\n",
       "  </tbody>\n",
       "</table>\n",
       "</div>"
      ],
      "text/plain": [
       "   y_pred_linear  y_pred_linear_selected  y_pred_ridge  y_pred_lasso  \\\n",
       "0       9.241537                9.197035      9.244224      9.142903   \n",
       "1       8.312222                8.300987      8.317220      8.303288   \n",
       "2       8.899434                8.910826      8.894495      8.859596   \n",
       "3       8.081334                8.025311      8.083858      8.085032   \n",
       "4       8.447774                8.445480      8.433497      8.416404   \n",
       "\n",
       "   y_pred_elasticnet  \n",
       "0           9.142903  \n",
       "1           8.303288  \n",
       "2           8.859596  \n",
       "3           8.085032  \n",
       "4           8.416404  "
      ]
     },
     "execution_count": 20,
     "metadata": {},
     "output_type": "execute_result"
    }
   ],
   "source": [
    "#predictions on model 3.3 (ridge regression with best alpha)\n",
    "y_pred_ridge = model_ridge.predict(X_test)\n",
    "#predictions on model 4.2 (lasso CV)\n",
    "y_pred_lassocv = model_lassocv.predict(X_test)\n",
    "#predictions on model 4.3 (Elastic net CV)\n",
    "y_pred_elastic = model_elasticnetcv.predict(X_test)\n",
    "\n",
    "#predictions on model 5.2 (linear of selected features)\n",
    "\n",
    "selected_feature_names = [X_test.columns[i] for i in range(len(selected_features)) if selected_features[i]]\n",
    "X_test_selected = X_test[selected_feature_names]\n",
    "y_pred_linear = model_linear.predict(X_test_selected)\n",
    "\n",
    "\n",
    "df_predictions = pd.DataFrame({\n",
    "    \"y_pred_linear\": y_pred,\n",
    "    \"y_pred_linear_selected\": y_pred_linear,\n",
    "    \"y_pred_ridge\": y_pred_ridge,\n",
    "    \"y_pred_lasso\": y_pred_lassocv,\n",
    "    \"y_pred_elasticnet\": y_pred_elastic\n",
    "})\n",
    "\n",
    "\n",
    "df_predictions.head(n=5)"
   ]
  },
  {
   "cell_type": "code",
   "execution_count": 21,
   "metadata": {
    "colab": {
     "base_uri": "https://localhost:8080/"
    },
    "id": "BnDTK5XG6k08",
    "outputId": "d6a684c0-afb3-468c-b07e-235070e3f1cf"
   },
   "outputs": [
    {
     "name": "stdout",
     "output_type": "stream",
     "text": [
      "Mean Squared Error for Linear Regression 0.11048051028093514\n",
      "Mean Squared Error for Ridge Regression: 0.1101501999617784\n",
      "Mean Squared Error for Lasso CV: 0.10992600726531618\n",
      "Mean Squared Error for Elastic Net CV: 0.10992600726531618\n",
      "Mean Squared Error for Linear Regression of Selected Features: 0.11077019282893105\n"
     ]
    }
   ],
   "source": [
    "#using mse to assess the performance of the different models\n",
    "from sklearn.metrics import mean_squared_error\n",
    "\n",
    "# Calculate mean squared error for each model\n",
    "mse_ridge = mean_squared_error(y_test, y_pred_ridge)\n",
    "mse_lassocv = mean_squared_error(y_test, y_pred_lassocv)\n",
    "mse_elastic = mean_squared_error(y_test, y_pred_elastic)\n",
    "mse_linear = mean_squared_error(y_test, y_pred)\n",
    "mse_linear_selected = mean_squared_error(y_test, y_pred_linear)\n",
    "\n",
    "# Print the MSE for each model\n",
    "print(\"Mean Squared Error for Linear Regression\", mse_linear)\n",
    "print(\"Mean Squared Error for Ridge Regression:\", mse_ridge)\n",
    "print(\"Mean Squared Error for Lasso CV:\", mse_lassocv)\n",
    "print(\"Mean Squared Error for Elastic Net CV:\", mse_elastic)\n",
    "print(\"Mean Squared Error for Linear Regression of Selected Features:\", mse_linear_selected)"
   ]
  },
  {
   "cell_type": "markdown",
   "metadata": {
    "id": "rOXIpNBmBcay"
   },
   "source": [
    "\n",
    "Elastic Net CV model and Lasso CV model both yield the smallest mean squared error on the test dataset with both having a value of: 0.10992600726531618\n",
    "..."
   ]
  }
 ],
 "metadata": {
  "colab": {
   "provenance": []
  },
  "kernelspec": {
   "display_name": "Python 3 (ipykernel)",
   "language": "python",
   "name": "python3"
  },
  "language_info": {
   "codemirror_mode": {
    "name": "ipython",
    "version": 3
   },
   "file_extension": ".py",
   "mimetype": "text/x-python",
   "name": "python",
   "nbconvert_exporter": "python",
   "pygments_lexer": "ipython3",
   "version": "3.11.7"
  },
  "vscode": {
   "interpreter": {
    "hash": "33450fd3005a3f920860570602bb6b9ad3febc9347ad497c595fea1c977e6b53"
   }
  }
 },
 "nbformat": 4,
 "nbformat_minor": 4
}
