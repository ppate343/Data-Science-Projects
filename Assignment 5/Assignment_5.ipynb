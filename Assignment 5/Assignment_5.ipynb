{
 "cells": [
  {
   "cell_type": "markdown",
   "metadata": {
    "id": "SK2gGiAt93z2"
   },
   "source": [
    "#Model Selection and Cross-validation \n",
    "\n",
    "\n",
    "\n",
    "In this project I examine [\"Forest Fires\"](https://archive.ics.uci.edu/ml/datasets/Forest+Fires) dataset to predict the burned area of forest fires giving some features. I apply model selection and cross-validation methods for predictive assesment. "
   ]
  },
  {
   "cell_type": "code",
   "execution_count": 1,
   "metadata": {
    "id": "_B3mtq4793z3"
   },
   "outputs": [],
   "source": [
    "import pandas as pd\n",
    "import numpy as np\n",
    "from numpy import *\n",
    "import matplotlib.pyplot as plt\n",
    "import seaborn as sns\n",
    "from sklearn.model_selection import train_test_split, cross_val_score\n",
    "from sklearn.linear_model import LinearRegression\n",
    "from sklearn.pipeline import Pipeline\n",
    "from sklearn.preprocessing import StandardScaler, PolynomialFeatures\n",
    "from sklearn.metrics import make_scorer\n",
    "from sklearn.base import BaseEstimator, TransformerMixin\n",
    "from scipy.stats import chi2_contingency\n",
    "np.set_printoptions(precision=3)\n",
    "seed=0"
   ]
  },
  {
   "cell_type": "code",
   "execution_count": 2,
   "metadata": {
    "id": "ES-5D9MV93z5"
   },
   "outputs": [
    {
     "data": {
      "text/html": [
       "<div>\n",
       "<style scoped>\n",
       "    .dataframe tbody tr th:only-of-type {\n",
       "        vertical-align: middle;\n",
       "    }\n",
       "\n",
       "    .dataframe tbody tr th {\n",
       "        vertical-align: top;\n",
       "    }\n",
       "\n",
       "    .dataframe thead th {\n",
       "        text-align: right;\n",
       "    }\n",
       "</style>\n",
       "<table border=\"1\" class=\"dataframe\">\n",
       "  <thead>\n",
       "    <tr style=\"text-align: right;\">\n",
       "      <th></th>\n",
       "      <th>X</th>\n",
       "      <th>Y</th>\n",
       "      <th>month</th>\n",
       "      <th>day</th>\n",
       "      <th>FFMC</th>\n",
       "      <th>DMC</th>\n",
       "      <th>DC</th>\n",
       "      <th>ISI</th>\n",
       "      <th>temp</th>\n",
       "      <th>RH</th>\n",
       "      <th>wind</th>\n",
       "      <th>rain</th>\n",
       "      <th>area</th>\n",
       "    </tr>\n",
       "  </thead>\n",
       "  <tbody>\n",
       "    <tr>\n",
       "      <th>0</th>\n",
       "      <td>7</td>\n",
       "      <td>5</td>\n",
       "      <td>mar</td>\n",
       "      <td>fri</td>\n",
       "      <td>86.2</td>\n",
       "      <td>26.2</td>\n",
       "      <td>94.3</td>\n",
       "      <td>5.1</td>\n",
       "      <td>8.2</td>\n",
       "      <td>51</td>\n",
       "      <td>6.7</td>\n",
       "      <td>0.0</td>\n",
       "      <td>0.0</td>\n",
       "    </tr>\n",
       "    <tr>\n",
       "      <th>1</th>\n",
       "      <td>7</td>\n",
       "      <td>4</td>\n",
       "      <td>oct</td>\n",
       "      <td>tue</td>\n",
       "      <td>90.6</td>\n",
       "      <td>35.4</td>\n",
       "      <td>669.1</td>\n",
       "      <td>6.7</td>\n",
       "      <td>18.0</td>\n",
       "      <td>33</td>\n",
       "      <td>0.9</td>\n",
       "      <td>0.0</td>\n",
       "      <td>0.0</td>\n",
       "    </tr>\n",
       "    <tr>\n",
       "      <th>2</th>\n",
       "      <td>7</td>\n",
       "      <td>4</td>\n",
       "      <td>oct</td>\n",
       "      <td>sat</td>\n",
       "      <td>90.6</td>\n",
       "      <td>43.7</td>\n",
       "      <td>686.9</td>\n",
       "      <td>6.7</td>\n",
       "      <td>14.6</td>\n",
       "      <td>33</td>\n",
       "      <td>1.3</td>\n",
       "      <td>0.0</td>\n",
       "      <td>0.0</td>\n",
       "    </tr>\n",
       "    <tr>\n",
       "      <th>3</th>\n",
       "      <td>8</td>\n",
       "      <td>6</td>\n",
       "      <td>mar</td>\n",
       "      <td>fri</td>\n",
       "      <td>91.7</td>\n",
       "      <td>33.3</td>\n",
       "      <td>77.5</td>\n",
       "      <td>9.0</td>\n",
       "      <td>8.3</td>\n",
       "      <td>97</td>\n",
       "      <td>4.0</td>\n",
       "      <td>0.2</td>\n",
       "      <td>0.0</td>\n",
       "    </tr>\n",
       "    <tr>\n",
       "      <th>4</th>\n",
       "      <td>8</td>\n",
       "      <td>6</td>\n",
       "      <td>mar</td>\n",
       "      <td>sun</td>\n",
       "      <td>89.3</td>\n",
       "      <td>51.3</td>\n",
       "      <td>102.2</td>\n",
       "      <td>9.6</td>\n",
       "      <td>11.4</td>\n",
       "      <td>99</td>\n",
       "      <td>1.8</td>\n",
       "      <td>0.0</td>\n",
       "      <td>0.0</td>\n",
       "    </tr>\n",
       "  </tbody>\n",
       "</table>\n",
       "</div>"
      ],
      "text/plain": [
       "   X  Y month  day  FFMC   DMC     DC  ISI  temp  RH  wind  rain  area\n",
       "0  7  5   mar  fri  86.2  26.2   94.3  5.1   8.2  51   6.7   0.0   0.0\n",
       "1  7  4   oct  tue  90.6  35.4  669.1  6.7  18.0  33   0.9   0.0   0.0\n",
       "2  7  4   oct  sat  90.6  43.7  686.9  6.7  14.6  33   1.3   0.0   0.0\n",
       "3  8  6   mar  fri  91.7  33.3   77.5  9.0   8.3  97   4.0   0.2   0.0\n",
       "4  8  6   mar  sun  89.3  51.3  102.2  9.6  11.4  99   1.8   0.0   0.0"
      ]
     },
     "execution_count": 2,
     "metadata": {},
     "output_type": "execute_result"
    }
   ],
   "source": [
    "\n",
    "df = pd.read_csv(\"forestfires.csv\")\n",
    "\n",
    "df.head(n=5)"
   ]
  },
  {
   "cell_type": "code",
   "execution_count": 3,
   "metadata": {
    "id": "mltXl2HI93z6"
   },
   "outputs": [
    {
     "name": "stdout",
     "output_type": "stream",
     "text": [
      "<class 'pandas.core.frame.DataFrame'>\n",
      "RangeIndex: 517 entries, 0 to 516\n",
      "Data columns (total 13 columns):\n",
      " #   Column  Non-Null Count  Dtype  \n",
      "---  ------  --------------  -----  \n",
      " 0   X       517 non-null    int64  \n",
      " 1   Y       517 non-null    int64  \n",
      " 2   month   517 non-null    object \n",
      " 3   day     517 non-null    object \n",
      " 4   FFMC    517 non-null    float64\n",
      " 5   DMC     517 non-null    float64\n",
      " 6   DC      517 non-null    float64\n",
      " 7   ISI     517 non-null    float64\n",
      " 8   temp    517 non-null    float64\n",
      " 9   RH      517 non-null    int64  \n",
      " 10  wind    517 non-null    float64\n",
      " 11  rain    517 non-null    float64\n",
      " 12  area    517 non-null    float64\n",
      "dtypes: float64(8), int64(3), object(2)\n",
      "memory usage: 52.6+ KB\n",
      "====================================================================================================\n",
      "The null count is:  0\n"
     ]
    }
   ],
   "source": [
    "\n",
    "df.info(verbose = True,memory_usage = True,show_counts = True)\n",
    "null_count = df.isnull().sum().sum()\n",
    "print('=' * 100)\n",
    "print(\"The null count is: \", null_count)"
   ]
  },
  {
   "cell_type": "markdown",
   "metadata": {
    "id": "4xlCQx1m93z7"
   },
   "source": [
    "\n",
    "1. There are 517 rows \n",
    "2. The data does not consist of null entries \n",
    "3. The categorical attributes are Month and Day attributes with type object"
   ]
  },
  {
   "cell_type": "markdown",
   "metadata": {
    "id": "RmcfdRLt93z8"
   },
   "source": [
    "\n",
    "\n",
    "Using a threshold of statistical significance of 5%, I am checking the statistical significance for the labels of each categorical attribute. I am then grouping insignificant labels into two new statistically significant classes."
   ]
  },
  {
   "cell_type": "code",
   "execution_count": 4,
   "metadata": {
    "id": "K3W38eT593z-"
   },
   "outputs": [
    {
     "name": "stdout",
     "output_type": "stream",
     "text": [
      "month\n",
      "aug    184\n",
      "sep    172\n",
      "mar     54\n",
      "jul     32\n",
      "feb     20\n",
      "jun     17\n",
      "oct     15\n",
      "apr      9\n",
      "dec      9\n",
      "jan      2\n",
      "may      2\n",
      "nov      1\n",
      "Name: count, dtype: int64\n",
      "====================================================================================================\n",
      "Statistical significance of 'month' with target var 'area': 0.9931307408492104\n",
      "====================================================================================================\n"
     ]
    }
   ],
   "source": [
    "\n",
    "from scipy.stats import f_oneway \n",
    "\n",
    "print(df.month.value_counts())\n",
    "anova_result_month = f_oneway(*[group[\"area\"] for name, group in df.groupby(\"month\")])\n",
    "\n",
    "p_value_month = anova_result_month.pvalue\n",
    "\n",
    "#print(\"Insignificant months with low counts: \", low_count_months)\n",
    "print('=' * 100)\n",
    "print(\"Statistical significance of 'month' with target var 'area':\", p_value_month)\n",
    "print('=' * 100)"
   ]
  },
  {
   "cell_type": "code",
   "execution_count": 5,
   "metadata": {
    "id": "VU4ecuwW930A"
   },
   "outputs": [
    {
     "name": "stdout",
     "output_type": "stream",
     "text": [
      "day\n",
      "sun    95\n",
      "fri    85\n",
      "sat    84\n",
      "mon    74\n",
      "tue    64\n",
      "thu    61\n",
      "wed    54\n",
      "Name: count, dtype: int64\n",
      "====================================================================================================\n",
      "Statistical significance of 'day' with target var 'area': 0.5246901872339957\n",
      "====================================================================================================\n"
     ]
    }
   ],
   "source": [
    "\n",
    "print(df.day.value_counts())\n",
    "\n",
    "anova_result_day = f_oneway(*[group[\"area\"] for name, group in df.groupby(\"day\")])\n",
    "\n",
    "p_value_day = anova_result_day.pvalue\n",
    "\n",
    "#print(\"Insignificant months with low counts: \", low_count_months)\n",
    "print('=' * 100)\n",
    "print(\"Statistical significance of 'day' with target var 'area':\", p_value_day)\n",
    "print('=' * 100)"
   ]
  },
  {
   "cell_type": "code",
   "execution_count": 6,
   "metadata": {
    "id": "W_DLOKZT930B"
   },
   "outputs": [],
   "source": [
    "\n",
    "#defining two new statistically significant labels for months \n",
    "warm_months = ['jun', 'jul', 'aug', 'sep']\n",
    "cool_months = ['jan', 'feb', 'mar', 'apr', 'may', 'oct', 'nov', 'dec' ]\n",
    "\n",
    "df['season'] = df['month'].apply(lambda x: 'Warm_month' if x in warm_months else 'Cold_month')\n",
    "\n",
    "# Drop the original 'month' column\n",
    "df.drop(columns=['month'], inplace=True)\n",
    "\n",
    "#defining two new statistically significant labels for days \n",
    "weekday = ['mon', 'tue', 'wed', 'thu']\n",
    "weekend = ['fri', 'sat', 'sun', ]\n",
    "\n",
    "df['day_type'] = df['day'].apply(lambda x: 'weekday' if x in weekday else 'weekend')\n",
    "\n",
    "# Drop the original 'month' column\n",
    "df.drop(columns=['day'], inplace=True)\n"
   ]
  },
  {
   "cell_type": "code",
   "execution_count": 7,
   "metadata": {
    "id": "HxXYs8gL930C"
   },
   "outputs": [
    {
     "name": "stdout",
     "output_type": "stream",
     "text": [
      "ANOVA p-value 'month' with adjusted labels: 0.21483810114166912\n",
      "====================================================================================================\n",
      "ANOVA p-value 'day' with adjusted labels: 0.824860064629192\n",
      "====================================================================================================\n",
      "season\n",
      "Warm_month    405\n",
      "Cold_month    112\n",
      "Name: count, dtype: int64\n",
      "====================================================================================================\n"
     ]
    },
    {
     "data": {
      "text/plain": [
       "day_type\n",
       "weekend    264\n",
       "weekday    253\n",
       "Name: count, dtype: int64"
      ]
     },
     "execution_count": 7,
     "metadata": {},
     "output_type": "execute_result"
    }
   ],
   "source": [
    "# Rechecking statistical significance\n",
    "\n",
    "anova_result_month_adjusted = f_oneway(*[group[\"area\"] for name, group in df.groupby(\"season\")])\n",
    "p_value_month_adjusted = anova_result_month_adjusted .pvalue\n",
    "\n",
    "anova_result_day_adjusted = f_oneway(*[group[\"area\"] for name, group in df.groupby(\"day_type\")])\n",
    "p_value_day_adjusted = anova_result_day_adjusted .pvalue\n",
    "\n",
    "\n",
    "print(\"ANOVA p-value 'month' with adjusted labels:\", p_value_month_adjusted)\n",
    "print('=' * 100)\n",
    "print(\"ANOVA p-value 'day' with adjusted labels:\", p_value_day_adjusted)\n",
    "print('=' * 100)\n",
    "print(df['season'].value_counts())\n",
    "print('=' * 100)\n",
    "df['day_type'].value_counts()"
   ]
  },
  {
   "cell_type": "code",
   "execution_count": 8,
   "metadata": {
    "id": "I_YgPiXP930C"
   },
   "outputs": [
    {
     "data": {
      "text/html": [
       "<div>\n",
       "<style scoped>\n",
       "    .dataframe tbody tr th:only-of-type {\n",
       "        vertical-align: middle;\n",
       "    }\n",
       "\n",
       "    .dataframe tbody tr th {\n",
       "        vertical-align: top;\n",
       "    }\n",
       "\n",
       "    .dataframe thead th {\n",
       "        text-align: right;\n",
       "    }\n",
       "</style>\n",
       "<table border=\"1\" class=\"dataframe\">\n",
       "  <thead>\n",
       "    <tr style=\"text-align: right;\">\n",
       "      <th></th>\n",
       "      <th>X</th>\n",
       "      <th>Y</th>\n",
       "      <th>FFMC</th>\n",
       "      <th>DMC</th>\n",
       "      <th>DC</th>\n",
       "      <th>ISI</th>\n",
       "      <th>temp</th>\n",
       "      <th>RH</th>\n",
       "      <th>wind</th>\n",
       "      <th>rain</th>\n",
       "      <th>area</th>\n",
       "      <th>season_Cold_month</th>\n",
       "      <th>season_Warm_month</th>\n",
       "      <th>day_type_weekday</th>\n",
       "      <th>day_type_weekend</th>\n",
       "    </tr>\n",
       "  </thead>\n",
       "  <tbody>\n",
       "    <tr>\n",
       "      <th>0</th>\n",
       "      <td>7.0</td>\n",
       "      <td>5.0</td>\n",
       "      <td>86.2</td>\n",
       "      <td>26.2</td>\n",
       "      <td>94.3</td>\n",
       "      <td>5.1</td>\n",
       "      <td>8.2</td>\n",
       "      <td>51.0</td>\n",
       "      <td>6.7</td>\n",
       "      <td>0.0</td>\n",
       "      <td>0.0</td>\n",
       "      <td>1.0</td>\n",
       "      <td>0.0</td>\n",
       "      <td>0.0</td>\n",
       "      <td>1.0</td>\n",
       "    </tr>\n",
       "    <tr>\n",
       "      <th>1</th>\n",
       "      <td>7.0</td>\n",
       "      <td>4.0</td>\n",
       "      <td>90.6</td>\n",
       "      <td>35.4</td>\n",
       "      <td>669.1</td>\n",
       "      <td>6.7</td>\n",
       "      <td>18.0</td>\n",
       "      <td>33.0</td>\n",
       "      <td>0.9</td>\n",
       "      <td>0.0</td>\n",
       "      <td>0.0</td>\n",
       "      <td>1.0</td>\n",
       "      <td>0.0</td>\n",
       "      <td>1.0</td>\n",
       "      <td>0.0</td>\n",
       "    </tr>\n",
       "    <tr>\n",
       "      <th>2</th>\n",
       "      <td>7.0</td>\n",
       "      <td>4.0</td>\n",
       "      <td>90.6</td>\n",
       "      <td>43.7</td>\n",
       "      <td>686.9</td>\n",
       "      <td>6.7</td>\n",
       "      <td>14.6</td>\n",
       "      <td>33.0</td>\n",
       "      <td>1.3</td>\n",
       "      <td>0.0</td>\n",
       "      <td>0.0</td>\n",
       "      <td>1.0</td>\n",
       "      <td>0.0</td>\n",
       "      <td>0.0</td>\n",
       "      <td>1.0</td>\n",
       "    </tr>\n",
       "    <tr>\n",
       "      <th>3</th>\n",
       "      <td>8.0</td>\n",
       "      <td>6.0</td>\n",
       "      <td>91.7</td>\n",
       "      <td>33.3</td>\n",
       "      <td>77.5</td>\n",
       "      <td>9.0</td>\n",
       "      <td>8.3</td>\n",
       "      <td>97.0</td>\n",
       "      <td>4.0</td>\n",
       "      <td>0.2</td>\n",
       "      <td>0.0</td>\n",
       "      <td>1.0</td>\n",
       "      <td>0.0</td>\n",
       "      <td>0.0</td>\n",
       "      <td>1.0</td>\n",
       "    </tr>\n",
       "    <tr>\n",
       "      <th>4</th>\n",
       "      <td>8.0</td>\n",
       "      <td>6.0</td>\n",
       "      <td>89.3</td>\n",
       "      <td>51.3</td>\n",
       "      <td>102.2</td>\n",
       "      <td>9.6</td>\n",
       "      <td>11.4</td>\n",
       "      <td>99.0</td>\n",
       "      <td>1.8</td>\n",
       "      <td>0.0</td>\n",
       "      <td>0.0</td>\n",
       "      <td>1.0</td>\n",
       "      <td>0.0</td>\n",
       "      <td>0.0</td>\n",
       "      <td>1.0</td>\n",
       "    </tr>\n",
       "  </tbody>\n",
       "</table>\n",
       "</div>"
      ],
      "text/plain": [
       "     X    Y  FFMC   DMC     DC  ISI  temp    RH  wind  rain  area  \\\n",
       "0  7.0  5.0  86.2  26.2   94.3  5.1   8.2  51.0   6.7   0.0   0.0   \n",
       "1  7.0  4.0  90.6  35.4  669.1  6.7  18.0  33.0   0.9   0.0   0.0   \n",
       "2  7.0  4.0  90.6  43.7  686.9  6.7  14.6  33.0   1.3   0.0   0.0   \n",
       "3  8.0  6.0  91.7  33.3   77.5  9.0   8.3  97.0   4.0   0.2   0.0   \n",
       "4  8.0  6.0  89.3  51.3  102.2  9.6  11.4  99.0   1.8   0.0   0.0   \n",
       "\n",
       "   season_Cold_month  season_Warm_month  day_type_weekday  day_type_weekend  \n",
       "0                1.0                0.0               0.0               1.0  \n",
       "1                1.0                0.0               1.0               0.0  \n",
       "2                1.0                0.0               0.0               1.0  \n",
       "3                1.0                0.0               0.0               1.0  \n",
       "4                1.0                0.0               0.0               1.0  "
      ]
     },
     "execution_count": 8,
     "metadata": {},
     "output_type": "execute_result"
    }
   ],
   "source": [
    "# Using \"get_dummies\" to perform one hot encoding to the categorical attributes to turn into numerical data\n",
    "\n",
    "one_hot_encode= pd.get_dummies(df, columns=[\"season\", 'day_type'], prefix_sep='_', dummy_na=False, sparse=False, drop_first= False, dtype=None)\n",
    "one_hot_encode = one_hot_encode.astype(float)\n",
    "\n",
    "one_hot_encode.head(n=5)"
   ]
  },
  {
   "cell_type": "code",
   "execution_count": 9,
   "metadata": {
    "id": "Lxh1ba_F930C"
   },
   "outputs": [
    {
     "data": {
      "text/plain": [
       "Index(['X', 'Y', 'FFMC', 'DMC', 'DC', 'ISI', 'temp', 'RH', 'wind', 'rain',\n",
       "       'area', 'season_Cold_month', 'season_Warm_month', 'day_type_weekday',\n",
       "       'day_type_weekend'],\n",
       "      dtype='object')"
      ]
     },
     "execution_count": 9,
     "metadata": {},
     "output_type": "execute_result"
    }
   ],
   "source": [
    "\n",
    "one_hot_encode.columns"
   ]
  },
  {
   "cell_type": "code",
   "execution_count": 10,
   "metadata": {
    "id": "KC2oXlFf930D"
   },
   "outputs": [
    {
     "data": {
      "image/png": "[encoded data removed]",
      "text/plain": [
       "<Figure size 640x480 with 1 Axes>"
      ]
     },
     "metadata": {},
     "output_type": "display_data"
    }
   ],
   "source": [
    "#Examining distribution of target variable 'Area'\n",
    "sns.histplot(data=one_hot_encode, x='area', kde=True)\n",
    "plt.xlabel('Area')\n",
    "plt.ylabel('Frequency')\n",
    "plt.title('Distribution of Area')\n",
    "plt.show()"
   ]
  },
  {
   "cell_type": "markdown",
   "metadata": {
    "id": "ZlWomIk2930E"
   },
   "source": [
    "**Analysis of Graph:**\n",
    "The graph is highly skewed to the left side with most of the data clustered between 0 and 1. This is an  indication that the distribution of area is dense between values of 0 and 1. Applying a log transform to this data would reduce the skewness of the graph. It compresses the values in the tail and pulls them closer to the mean, reducing the skewness of distribution. "
   ]
  },
  {
   "cell_type": "code",
   "execution_count": 11,
   "metadata": {
    "id": "ijeAgmgm930E"
   },
   "outputs": [
    {
     "data": {
      "image/png": "[encoded data removed]",
      "text/plain": [
       "<Figure size 640x480 with 1 Axes>"
      ]
     },
     "metadata": {},
     "output_type": "display_data"
    }
   ],
   "source": [
    "\n",
    "\n",
    "#adding 1 to account for 0 values and values between 0 -1 that return negative logs because area cannot be negative\n",
    "one_hot_encode['area'] = np.log(one_hot_encode['area']+ 1)\n",
    "\n",
    "sns.histplot(data=one_hot_encode, x='area', kde=True)\n",
    "plt.xlabel('Area')\n",
    "plt.ylabel('Density')\n",
    "plt.title('Distribution of Area')\n",
    "plt.show()"
   ]
  },
  {
   "cell_type": "code",
   "execution_count": 12,
   "metadata": {
    "id": "oRrjLAzO930G"
   },
   "outputs": [],
   "source": [
    "#Using Mean squared error as my score metric. Creating formula for y predicted and y \n",
    "def mse(y, ypr):\n",
    "    res = ypr - y\n",
    "    mse = np.sum(np.square(res))\n",
    "    return mse "
   ]
  },
  {
   "cell_type": "code",
   "execution_count": 13,
   "metadata": {
    "id": "cNGlC1dT930G"
   },
   "outputs": [
    {
     "name": "stdout",
     "output_type": "stream",
     "text": [
      "(413, 14) (104, 14)\n"
     ]
    }
   ],
   "source": [
    "#using all the features as predictors and the log transformed 'Area' as the target variable\n",
    "\n",
    "X = one_hot_encode.drop('area', axis = 'columns')\n",
    "y = one_hot_encode.area\n",
    "\n",
    "X_train, X_test, y_train, y_test = train_test_split(X, y, test_size=0.2, random_state=seed)\n",
    "\n",
    "print(X_train.shape, X_test.shape)"
   ]
  },
  {
   "cell_type": "code",
   "execution_count": 14,
   "metadata": {
    "id": "z4kQncow930H"
   },
   "outputs": [],
   "source": [
    "#for model 1 performing linear regression on the data\n",
    "m1 = Pipeline([\n",
    "    ('linear_regression', LinearRegression())\n",
    "])\n"
   ]
  },
  {
   "cell_type": "code",
   "execution_count": 15,
   "metadata": {
    "id": "SVFawDMO930I"
   },
   "outputs": [],
   "source": [
    "#for model 2 adding quadratic terms for all features using Polynomial Features \n",
    "m2 = Pipeline([\n",
    "    ('poly', PolynomialFeatures(degree=2, include_bias = False)),\n",
    "    ('linear_regression', LinearRegression())\n",
    "])"
   ]
  },
  {
   "cell_type": "code",
   "execution_count": 16,
   "metadata": {
    "id": "3LfLjUml930I"
   },
   "outputs": [],
   "source": [
    "#Considering Temp and Rain as important features, adding a cubed term for temp and squared term for rain to increase importance.\n",
    "#creating a custom transformer to speciy the above values\n",
    "\n",
    "class KeyFeatures(BaseEstimator, TransformerMixin):\n",
    "    def fit(self, X, y=None):\n",
    "        return self\n",
    "\n",
    "    def transform(self, X, y=None):\n",
    "        X['temp2'] = X['temp'] ** 3\n",
    "        X['rain2'] = X['rain'] ** 2\n",
    "        return X\n",
    "\n",
    "#for model 3 implementing the custom transformer for features Temp and Rain\n",
    "m3 = Pipeline([\n",
    "    ('keyFeatures', KeyFeatures()),\n",
    "    ('linear_regression', LinearRegression())\n",
    "])"
   ]
  },
  {
   "cell_type": "code",
   "execution_count": 17,
   "metadata": {
    "id": "Ue5BVAnk930J"
   },
   "outputs": [
    {
     "name": "stdout",
     "output_type": "stream",
     "text": [
      "M1 loss: 197.7463 +/- 10.5240\n",
      "M2 loss: 382.5916 +/- 81.6609\n",
      "M3 loss: 1569.0023 +/- 2367.1641\n"
     ]
    }
   ],
   "source": [
    "# Applying 4-fold CV on all models to get mean and std of score  \n",
    "sc = make_scorer(mse)\n",
    "\n",
    "cvsc1= cross_val_score(m1, X_train, y_train, scoring=sc, cv=4)\n",
    "cvsc2= cross_val_score(m2, X_train, y_train, scoring=sc, cv=4)\n",
    "cvsc3= cross_val_score(m3, X_train, y_train, scoring=sc, cv=4)\n",
    "\n",
    "print(f\"M1 loss: %.4f +/- %.4f\" % (cvsc1.mean(), cvsc1.std()))\n",
    "print(f\"M2 loss: %.4f +/- %.4f\" % (cvsc2.mean(), cvsc2.std()))\n",
    "print(f\"M3 loss: %.4f +/- %.4f\" % (cvsc3.mean(), cvsc3.std()))"
   ]
  },
  {
   "cell_type": "markdown",
   "metadata": {
    "id": "9V7YBbb6930K"
   },
   "source": [
    "**Analysis of mean and std of all 3 Models:**\n",
    "I would choose Model 2 over Model 1 because it demonstrates a reasonable balance between low mean loss (382.5916) and moderate standard deviation (81.6609). This suggests that on average, the model performs well in predicting the burned area, and the variability in its performance across different folds is relatively low compared to Model 1. This indicates a certain level of consistency in performance. Additionally, Model 2 has a significantly lower mean loss compared to Model 3..\""
   ]
  },
  {
   "cell_type": "code",
   "execution_count": 18,
   "metadata": {
    "id": "mBgAUuJm930L"
   },
   "outputs": [
    {
     "name": "stdout",
     "output_type": "stream",
     "text": [
      "MSE loss on test data: 286.2221 \n"
     ]
    }
   ],
   "source": [
    "# estimating performance of model 2 using mse\n",
    "m2 = m2.fit(X_train,y_train)\n",
    "test_loss = mse(y_test,m2.predict(X_test))\n",
    "print(f\"MSE loss on test data: %.4f \" %  test_loss)"
   ]
  },
  {
   "cell_type": "markdown",
   "metadata": {
    "id": "PzgXRyPi930L"
   },
   "source": [
    " The central limit theorem (CLT) states that if you have a population with mean $\\mu$ and standard deviation $\\sigma$ and take sufficiently large random samples from the population with replacement, then the distribution of the sample means will be approximately normally distributed. This will hold true regardless of whether the source population is normal or skewed, provided the sample size is sufficiently large (usually greater than 30).\n",
    "\n",
    "Computing a 95% confidence interval for the average test error using the Central Limit Theorem using the following formula:\n",
    "\n",
    "$$ \\bar{L_n} \\pm 1.96 * \\frac{\\sigma_{l}}{\\sqrt{n}}$$\n",
    "\n",
    "Here $\\bar{L_n}$ is the average test loss (i.e. for our test set), $\\sigma_l$ is the standard deviation (of our test losses), and $n$ is the total number of test losses we compute.  "
   ]
  },
  {
   "cell_type": "code",
   "execution_count": 19,
   "metadata": {
    "id": "NgbNTtaC930L"
   },
   "outputs": [
    {
     "name": "stdout",
     "output_type": "stream",
     "text": [
      "Confidence Interval is: 3.2515538647436864\n",
      "Upper Bound: 289.47361333847306\n",
      "Lower Bound: 282.97050560898566\n"
     ]
    }
   ],
   "source": [
    "# Test loss here is a point estimate (statistic) for the generalization error\n",
    "# Having >30 samples, we can use the formula above safely\n",
    "# Here we compute confidence interval for generalization error (i.e.expected [average] test loss for this particular dataset)\n",
    "\n",
    "z_value = 1.96  \n",
    "std_loss= np.sqrt(test_loss) \n",
    "total_num_test_loss = len(y_test)\n",
    "\n",
    "\n",
    "ci = z_value * (std_loss / np.sqrt(total_num_test_loss))\n",
    "upper_bound = test_loss + ci\n",
    "lower_bound = test_loss - ci\n",
    "\n",
    "print('Confidence Interval is:', ci)\n",
    "print('Upper Bound:', upper_bound)\n",
    "print('Lower Bound:', lower_bound)"
   ]
  }
 ],
 "metadata": {
  "colab": {
   "collapsed_sections": [],
   "provenance": []
  },
  "kernelspec": {
   "display_name": "Python 3 (ipykernel)",
   "language": "python",
   "name": "python3"
  },
  "language_info": {
   "codemirror_mode": {
    "name": "ipython",
    "version": 3
   },
   "file_extension": ".py",
   "mimetype": "text/x-python",
   "name": "python",
   "nbconvert_exporter": "python",
   "pygments_lexer": "ipython3",
   "version": "3.11.7"
  },
  "vscode": {
   "interpreter": {
    "hash": "3420a8792bbc8a921cecec9f5e200567f9d5b83365a03086ee32a665b051d9eb"
   }
  }
 },
 "nbformat": 4,
 "nbformat_minor": 4
}
